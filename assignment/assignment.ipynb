{
  "cells": [
    {
      "cell_type": "markdown",
      "id": "e0c7b14a-e5aa-4abc-b48b-b8a9d20dacac",
      "metadata": {
        "id": "e0c7b14a-e5aa-4abc-b48b-b8a9d20dacac"
      },
      "source": [
        "# Assignment: Linear Models\n",
        "## Do three questions.\n",
        "### `! git clone https://github.com/ds4e/linearModels`"
      ]
    },
    {
      "cell_type": "markdown",
      "id": "bf4826b0",
      "metadata": {
        "id": "bf4826b0"
      },
      "source": [
        "**Q1.** Please answer the following questions in your own words.\n",
        "\n",
        "1. What makes a model \"linear\"? \"Linear\" in what?\n",
        "2. How do you interpret the coefficient for a dummy/one-hot-encoded variable? (This is a trick question, and the trick involves how you handle the intercept of the model.)\n",
        "3. Can linear regression be used for classification? Explain why, or why not.\n",
        "4. What are signs that your linear model is over-fitting?\n",
        "5. Clearly explain multi-colinearity using the two-stage least squares technique.\n",
        "6. How can you incorporate nonlinear relationships between your target/response/dependent/outcome variable $y$ and your features/control/response/independent variables $x$ into your analysis?\n",
        "7. What is the interpretation of the intercept? A slope coefficient for a variable? The coefficient for a dummy/one-hot-encoded variable?"
      ]
    },
    {
      "cell_type": "markdown",
      "id": "e9c86f4f",
      "metadata": {},
      "source": [
        "**1** A linear model is defined as linear by the fact that it uses a linear equation to predict where certain observances have a value based on a certain input. The values are predicted by that line that is the linear model."
      ]
    },
    {
      "cell_type": "markdown",
      "id": "4d9cb9f7",
      "metadata": {},
      "source": [
        "**2** \n",
        "One-hot encoded variables encode the occurrence of a variable as true or false, and the coefficient represents how likely it is to occur. The trick is that to avoid perfect multicolinearity, the first one must be dropped. "
      ]
    },
    {
      "cell_type": "markdown",
      "id": "1557fb32",
      "metadata": {},
      "source": [
        "**3**\n",
        "Linear regression is based on a continuous framework, placing the likelihood of a certain outcome y based on the input x. Classification works best by finding the closeness of a datapoint to others under a variable/variables with the intent of assigning a categorical variable. The output of linear regression does not fit properly for the purpose of classification, making it difficult to do. "
      ]
    },
    {
      "cell_type": "markdown",
      "id": "ee242be9",
      "metadata": {},
      "source": [
        "**4**\n",
        "If the model has very high accuracy, particularly on the training set, then it is likely overfit. If the model then performs poorly, and significantly worse than the training data, on new data than it is likely overfitting to the training data."
      ]
    },
    {
      "cell_type": "markdown",
      "id": "1f922f30",
      "metadata": {},
      "source": [
        "**5** Multi-colinearity happens as a result of variables being highly correlated with each other, and the two stage least squares method looks to reduce the high error that can be caused by highly-related variables by creating estimates from uncorrelated variables."
      ]
    },
    {
      "cell_type": "markdown",
      "id": "749c75ba",
      "metadata": {},
      "source": [
        "**6** The variables can be transformed to be better used in the model, such as finding the hyperbolic sine to better balance the distribution of a variable that might have many zero values. This will allow for a linear model to better fit to the data. "
      ]
    },
    {
      "cell_type": "markdown",
      "id": "18b152fb",
      "metadata": {},
      "source": [
        "**7** The intercept is what the output value would be if the input value is zero, while the slope represents the rate of change of the output based on the change of the input. The coefficient represents the frequency of the dummy variable within the data. "
      ]
    },
    {
      "cell_type": "markdown",
      "id": "25bf83c6-ff44-42d6-9b33-8be1b945860d",
      "metadata": {
        "id": "25bf83c6-ff44-42d6-9b33-8be1b945860d"
      },
      "source": [
        "**Q2.** Load `./data/Q1_clean.csv`. The data include\n",
        "\n",
        "- `Price` per night\n",
        "- `Review Scores Rating`: The average rating for the property\n",
        "- `Neighbourhood `: The bourough of NYC. Note the space, or rename the variable.\n",
        "- `Property Type`: The kind of dwelling\n",
        "- `Room Type`: The kind of space being rented\n",
        "\n",
        "1. Compute the average prices and scores by `Neighbourhood `; which borough is the most expensive on average? Create a kernel density plot of price and log price, grouping by `Neighbourhood `.\n",
        "2. Regress price on `Neighbourhood ` by creating the appropriate dummy/one-hot-encoded variables, without an intercept in the linear model and using all the data. Compare the coefficients in the regression to the table from part 1. What pattern do you see? What are the coefficients in a regression of a continuous variable on one categorical variable?\n",
        "3. Repeat part 2, but leave an intercept in the linear model. How do you have to handle the creation of the dummies differently? What is the intercept? Interpret the coefficients. How can I get the coefficients in part 2 from these new coefficients?\n",
        "4. Split the sample 80/20 into a training and a test set. Run a regression of `Price` on `Review Scores Rating` and `Neighbourhood `. What is the $R^2$ and RMSE on the test set? What is the coefficient on `Review Scores Rating`? What is the most expensive kind of property you can rent?\n",
        "5. Split the sample 80/20 into a training and a test set. Run a regression of `Price` on `Review Scores Rating` and `Neighbourhood ` and `Property Type`. What is the $R^2$ and RMSE on the test set? What is the coefficient on `Review Scores Rating`? What is the most expensive kind of property you can rent?\n",
        "6. What does the coefficient on `Review Scores Rating` mean if it changes from part 4 to 5? Hint: Think about how multilple linear regression works.\n",
        "7. (Optional) We've included `Neighborhood ` and `Property Type` separately in the model. How do you interact them, so you can have \"A bedroom in Queens\" or \"A townhouse in Manhattan\". Split the sample 80/20 into a training and a test set and run a regression including that kind of \"property type X neighborhood\" dummy, plus `Review Scores Rating`. How does the slope coefficient for `Review Scores Rating`, the $R^2$, and the RMSE change? Do they increase significantly compares to part 5? Are the coefficients in this regression just the sum of the coefficients for `Neighbourhood ` and `Property Type` from 5? What is the most expensive kind of property you can rent?"
      ]
    },
    {
      "cell_type": "code",
      "execution_count": 2,
      "id": "87bb87da",
      "metadata": {},
      "outputs": [
        {
          "data": {
            "text/html": [
              "<div>\n",
              "<style scoped>\n",
              "    .dataframe tbody tr th:only-of-type {\n",
              "        vertical-align: middle;\n",
              "    }\n",
              "\n",
              "    .dataframe tbody tr th {\n",
              "        vertical-align: top;\n",
              "    }\n",
              "\n",
              "    .dataframe thead th {\n",
              "        text-align: right;\n",
              "    }\n",
              "</style>\n",
              "<table border=\"1\" class=\"dataframe\">\n",
              "  <thead>\n",
              "    <tr style=\"text-align: right;\">\n",
              "      <th></th>\n",
              "      <th>Price</th>\n",
              "      <th>Review Scores Rating</th>\n",
              "      <th>Neighbourhood</th>\n",
              "      <th>Property Type</th>\n",
              "      <th>Room Type</th>\n",
              "    </tr>\n",
              "  </thead>\n",
              "  <tbody>\n",
              "    <tr>\n",
              "      <th>0</th>\n",
              "      <td>549</td>\n",
              "      <td>96.0</td>\n",
              "      <td>Manhattan</td>\n",
              "      <td>Apartment</td>\n",
              "      <td>Private room</td>\n",
              "    </tr>\n",
              "    <tr>\n",
              "      <th>1</th>\n",
              "      <td>149</td>\n",
              "      <td>100.0</td>\n",
              "      <td>Brooklyn</td>\n",
              "      <td>Apartment</td>\n",
              "      <td>Entire home/apt</td>\n",
              "    </tr>\n",
              "    <tr>\n",
              "      <th>2</th>\n",
              "      <td>250</td>\n",
              "      <td>100.0</td>\n",
              "      <td>Manhattan</td>\n",
              "      <td>Apartment</td>\n",
              "      <td>Entire home/apt</td>\n",
              "    </tr>\n",
              "    <tr>\n",
              "      <th>3</th>\n",
              "      <td>90</td>\n",
              "      <td>94.0</td>\n",
              "      <td>Brooklyn</td>\n",
              "      <td>Apartment</td>\n",
              "      <td>Private room</td>\n",
              "    </tr>\n",
              "    <tr>\n",
              "      <th>4</th>\n",
              "      <td>270</td>\n",
              "      <td>90.0</td>\n",
              "      <td>Manhattan</td>\n",
              "      <td>Apartment</td>\n",
              "      <td>Entire home/apt</td>\n",
              "    </tr>\n",
              "    <tr>\n",
              "      <th>5</th>\n",
              "      <td>290</td>\n",
              "      <td>96.0</td>\n",
              "      <td>Manhattan</td>\n",
              "      <td>Apartment</td>\n",
              "      <td>Entire home/apt</td>\n",
              "    </tr>\n",
              "    <tr>\n",
              "      <th>6</th>\n",
              "      <td>170</td>\n",
              "      <td>98.0</td>\n",
              "      <td>Brooklyn</td>\n",
              "      <td>Apartment</td>\n",
              "      <td>Entire home/apt</td>\n",
              "    </tr>\n",
              "    <tr>\n",
              "      <th>7</th>\n",
              "      <td>59</td>\n",
              "      <td>93.0</td>\n",
              "      <td>Manhattan</td>\n",
              "      <td>Apartment</td>\n",
              "      <td>Private room</td>\n",
              "    </tr>\n",
              "    <tr>\n",
              "      <th>8</th>\n",
              "      <td>49</td>\n",
              "      <td>91.0</td>\n",
              "      <td>Manhattan</td>\n",
              "      <td>Apartment</td>\n",
              "      <td>Private room</td>\n",
              "    </tr>\n",
              "    <tr>\n",
              "      <th>9</th>\n",
              "      <td>285</td>\n",
              "      <td>97.0</td>\n",
              "      <td>Manhattan</td>\n",
              "      <td>Apartment</td>\n",
              "      <td>Entire home/apt</td>\n",
              "    </tr>\n",
              "  </tbody>\n",
              "</table>\n",
              "</div>"
            ],
            "text/plain": [
              "   Price  Review Scores Rating Neighbourhood  Property Type        Room Type\n",
              "0    549                  96.0      Manhattan     Apartment     Private room\n",
              "1    149                 100.0       Brooklyn     Apartment  Entire home/apt\n",
              "2    250                 100.0      Manhattan     Apartment  Entire home/apt\n",
              "3     90                  94.0       Brooklyn     Apartment     Private room\n",
              "4    270                  90.0      Manhattan     Apartment  Entire home/apt\n",
              "5    290                  96.0      Manhattan     Apartment  Entire home/apt\n",
              "6    170                  98.0       Brooklyn     Apartment  Entire home/apt\n",
              "7     59                  93.0      Manhattan     Apartment     Private room\n",
              "8     49                  91.0      Manhattan     Apartment     Private room\n",
              "9    285                  97.0      Manhattan     Apartment  Entire home/apt"
            ]
          },
          "execution_count": 2,
          "metadata": {},
          "output_type": "execute_result"
        }
      ],
      "source": [
        "import pandas as pd\n",
        "\n",
        "df = pd.read_csv(\"./data/Q1_clean.csv\")\n",
        "df.head(10)\n"
      ]
    },
    {
      "cell_type": "code",
      "execution_count": 3,
      "id": "aab49604",
      "metadata": {},
      "outputs": [
        {
          "name": "stdout",
          "output_type": "stream",
          "text": [
            "0        Manhattan\n",
            "1         Brooklyn\n",
            "2        Manhattan\n",
            "3         Brooklyn\n",
            "4        Manhattan\n",
            "           ...    \n",
            "22148    Manhattan\n",
            "22149     Brooklyn\n",
            "22150     Brooklyn\n",
            "22151     Brooklyn\n",
            "22152    Manhattan\n",
            "Name: Neighbourhood , Length: 22153, dtype: object\n"
          ]
        }
      ],
      "source": [
        "# 1\n",
        "import numpy as np\n",
        "import seaborn as sns\n",
        "import matplotlib.pyplot as plt\n",
        "\n",
        "print(df['Neighbourhood '])\n"
      ]
    },
    {
      "cell_type": "code",
      "execution_count": 4,
      "id": "95f80929",
      "metadata": {},
      "outputs": [
        {
          "data": {
            "text/plain": [
              "<Axes: xlabel='Price', ylabel='Density'>"
            ]
          },
          "execution_count": 4,
          "metadata": {},
          "output_type": "execute_result"
        },
        {
          "data": {
            "image/png": "[encoded data removed]",
            "text/plain": [
              "<Figure size 640x480 with 1 Axes>"
            ]
          },
          "metadata": {},
          "output_type": "display_data"
        }
      ],
      "source": [
        "sns.kdeplot(df, x = 'Price', hue = 'Neighbourhood ')"
      ]
    },
    {
      "cell_type": "code",
      "execution_count": 5,
      "id": "dc6e3b74",
      "metadata": {},
      "outputs": [],
      "source": [
        "df['logprice'] = np.log(df['Price'])"
      ]
    },
    {
      "cell_type": "code",
      "execution_count": 6,
      "id": "63b2c3ad",
      "metadata": {},
      "outputs": [
        {
          "data": {
            "text/plain": [
              "<Axes: xlabel='logprice', ylabel='Density'>"
            ]
          },
          "execution_count": 6,
          "metadata": {},
          "output_type": "execute_result"
        },
        {
          "data": {
            "image/png": "[encoded data removed]",
            "text/plain": [
              "<Figure size 640x480 with 1 Axes>"
            ]
          },
          "metadata": {},
          "output_type": "display_data"
        }
      ],
      "source": [
        "sns.kdeplot(df, x = 'logprice', hue = 'Neighbourhood ')"
      ]
    },
    {
      "cell_type": "code",
      "execution_count": 7,
      "id": "f54d7ef9",
      "metadata": {},
      "outputs": [
        {
          "data": {
            "text/html": [
              "<div>\n",
              "<style scoped>\n",
              "    .dataframe tbody tr th:only-of-type {\n",
              "        vertical-align: middle;\n",
              "    }\n",
              "\n",
              "    .dataframe tbody tr th {\n",
              "        vertical-align: top;\n",
              "    }\n",
              "\n",
              "    .dataframe thead th {\n",
              "        text-align: right;\n",
              "    }\n",
              "</style>\n",
              "<table border=\"1\" class=\"dataframe\">\n",
              "  <thead>\n",
              "    <tr style=\"text-align: right;\">\n",
              "      <th></th>\n",
              "      <th>Price</th>\n",
              "      <th>Review Scores Rating</th>\n",
              "      <th>logprice</th>\n",
              "    </tr>\n",
              "    <tr>\n",
              "      <th>Neighbourhood</th>\n",
              "      <th></th>\n",
              "      <th></th>\n",
              "      <th></th>\n",
              "    </tr>\n",
              "  </thead>\n",
              "  <tbody>\n",
              "    <tr>\n",
              "      <th>Bronx</th>\n",
              "      <td>75.276498</td>\n",
              "      <td>91.654378</td>\n",
              "      <td>4.204151</td>\n",
              "    </tr>\n",
              "    <tr>\n",
              "      <th>Brooklyn</th>\n",
              "      <td>127.747378</td>\n",
              "      <td>92.363497</td>\n",
              "      <td>4.684422</td>\n",
              "    </tr>\n",
              "    <tr>\n",
              "      <th>Manhattan</th>\n",
              "      <td>183.664286</td>\n",
              "      <td>91.801496</td>\n",
              "      <td>5.042073</td>\n",
              "    </tr>\n",
              "    <tr>\n",
              "      <th>Queens</th>\n",
              "      <td>96.857233</td>\n",
              "      <td>91.549057</td>\n",
              "      <td>4.441535</td>\n",
              "    </tr>\n",
              "    <tr>\n",
              "      <th>Staten Island</th>\n",
              "      <td>146.166667</td>\n",
              "      <td>90.843750</td>\n",
              "      <td>4.394030</td>\n",
              "    </tr>\n",
              "  </tbody>\n",
              "</table>\n",
              "</div>"
            ],
            "text/plain": [
              "                     Price  Review Scores Rating  logprice\n",
              "Neighbourhood                                             \n",
              "Bronx            75.276498             91.654378  4.204151\n",
              "Brooklyn        127.747378             92.363497  4.684422\n",
              "Manhattan       183.664286             91.801496  5.042073\n",
              "Queens           96.857233             91.549057  4.441535\n",
              "Staten Island   146.166667             90.843750  4.394030"
            ]
          },
          "execution_count": 7,
          "metadata": {},
          "output_type": "execute_result"
        }
      ],
      "source": [
        "df.groupby('Neighbourhood ').mean(numeric_only=True)"
      ]
    },
    {
      "cell_type": "code",
      "execution_count": 8,
      "id": "fbe40a54",
      "metadata": {},
      "outputs": [
        {
          "name": "stdout",
          "output_type": "stream",
          "text": [
            "(22153, 6)\n",
            "(22153, 5)\n",
            "(22153,)\n"
          ]
        }
      ],
      "source": [
        "# 2\n",
        "\n",
        "x = pd.get_dummies(df['Neighbourhood '], drop_first=False).to_numpy()\n",
        "x1 = pd.get_dummies(df['Neighbourhood '], drop_first=True).to_numpy()\n",
        "y = df['Price'].to_numpy()\n",
        "x = np.hstack([np.ones((x.shape[0], 1)), x])\n",
        "x1 = np.hstack([np.ones((x1.shape[0], 1)), x1])\n",
        "print(x.shape)\n",
        "print(x1.shape)\n",
        "print(y.shape)\n"
      ]
    },
    {
      "cell_type": "code",
      "execution_count": 9,
      "id": "f70ed0a2",
      "metadata": {},
      "outputs": [],
      "source": [
        "def mlr(X,y): # Multiple linear regression, matrix algebra approach\n",
        "    XpX = X.T@X # Compute X'X\n",
        "    Xpy = X.T@y # Compute X'y\n",
        "    b = np.linalg.solve(XpX, Xpy) # Solve normal equations\n",
        "    y_hat = X@b # Compute predictions\n",
        "    residuals = y-y_hat # Compute residuals\n",
        "    SSE =  np.inner(residuals,residuals) # Compute SSE\n",
        "    rsq = 1 - SSE/np.inner( y-np.mean(y),y-np.mean(y)) # Compute Rsq\n",
        "    return({'b':b,'y_hat':y_hat,'residuals':residuals,'rsq':rsq,'SSE':SSE})"
      ]
    },
    {
      "cell_type": "code",
      "execution_count": 10,
      "id": "9b28b189",
      "metadata": {},
      "outputs": [
        {
          "name": "stdout",
          "output_type": "stream",
          "text": [
            "0.0\n",
            "[104.95201029 -29.67551259  22.79536805  78.71227603  -8.09477758\n",
            "  41.21465638]\n",
            "0.04631389606035197\n"
          ]
        }
      ],
      "source": [
        "from sklearn.linear_model import LinearRegression\n",
        "\n",
        "reg = LinearRegression(fit_intercept=False).fit(x, y)\n",
        "\n",
        "print(reg.intercept_) # Intercept value\n",
        "print(reg.coef_) # Regression coefficients\n",
        "print(reg.score(x, y)) # R squared measure"
      ]
    },
    {
      "cell_type": "markdown",
      "id": "d7ce4693",
      "metadata": {},
      "source": [
        "The coefficients "
      ]
    },
    {
      "cell_type": "code",
      "execution_count": 11,
      "id": "82e53706",
      "metadata": {},
      "outputs": [
        {
          "name": "stdout",
          "output_type": "stream",
          "text": [
            "0.0\n",
            "[104.95201029 -29.67551259  22.79536805  78.71227603  -8.09477758\n",
            "  41.21465638]\n",
            "0.04631389606035197\n"
          ]
        }
      ],
      "source": [
        "# 3\n",
        "reg2 = LinearRegression(fit_intercept=True).fit(x, y)\n",
        "\n",
        "print(reg.intercept_) # Intercept value\n",
        "print(reg.coef_) # Regression coefficients\n",
        "print(reg.score(x, y)) # R squared measure"
      ]
    },
    {
      "cell_type": "markdown",
      "id": "f94d3831",
      "metadata": {},
      "source": [
        "I handled the creation of the dummies differently by dropping the first one in their creation. The intercept shows 0 for me, and the coefficients are the same. "
      ]
    },
    {
      "cell_type": "code",
      "execution_count": 12,
      "id": "38124db8",
      "metadata": {},
      "outputs": [],
      "source": [
        "# 4\n",
        "from sklearn.model_selection import train_test_split\n",
        "\n",
        "df2_1 = pd.get_dummies(df['Neighbourhood '], drop_first=True)\n",
        "df2_2 = df.iloc[:, 1]\n",
        "df2 = pd.concat([df2_1, df2_2], axis=1)\n",
        "df2.head(5)\n",
        "x2 = df2.to_numpy()\n"
      ]
    },
    {
      "cell_type": "code",
      "execution_count": 13,
      "id": "b27f14b1",
      "metadata": {},
      "outputs": [],
      "source": [
        "x_train, x_test, y_train, y_test = train_test_split(x2, y, test_size=0.2)"
      ]
    },
    {
      "cell_type": "code",
      "execution_count": 14,
      "id": "3013032a",
      "metadata": {},
      "outputs": [
        {
          "name": "stdout",
          "output_type": "stream",
          "text": [
            "0.03373771298430739\n",
            "-24.808910270439156\n",
            "[ 54.057064   109.77426223  22.91992899  92.08645576   1.06848118]\n"
          ]
        }
      ],
      "source": [
        "reg3 = LinearRegression(fit_intercept=True).fit(x_train, y_train)\n",
        "\n",
        "y_hat = reg3.predict(x_test)\n",
        "print(reg3.score(x_test, y_test))\n",
        "print(reg3.intercept_) # Intercept value\n",
        "print(reg3.coef_) # Regression coefficients\n"
      ]
    },
    {
      "cell_type": "code",
      "execution_count": 15,
      "id": "c025660a",
      "metadata": {},
      "outputs": [],
      "source": [
        "# 5\n",
        "df3_1 = pd.get_dummies(df['Neighbourhood '], drop_first=True)\n",
        "df3_2 = df.iloc[:, 1]\n",
        "df3_3 = df3_1 = pd.get_dummies(df['Property Type'], drop_first=True)\n",
        "df3 = pd.concat([df3_1, df3_2, df3_3], axis=1)\n",
        "df3.head(5)\n",
        "x3= df3.to_numpy()"
      ]
    },
    {
      "cell_type": "code",
      "execution_count": 16,
      "id": "bf4e3cb3",
      "metadata": {},
      "outputs": [],
      "source": [
        "x3_train, x3_test, y3_train, y3_test = train_test_split(x3, y, test_size=0.2)\n",
        "reg4 = LinearRegression(fit_intercept=True).fit(x3_train, y3_train)\n"
      ]
    },
    {
      "cell_type": "code",
      "execution_count": 17,
      "id": "c166f6a4",
      "metadata": {},
      "outputs": [
        {
          "name": "stdout",
          "output_type": "stream",
          "text": [
            "0.011289309808044767\n",
            "66.415516806274\n",
            "[-2.41137993e+01 -4.11392625e+00 -4.93636481e+00  8.03558699e+00\n",
            " -3.61503753e+01 -5.90331287e+00 -3.09263573e+01  3.95213039e+01\n",
            " -3.88467039e+01 -1.59426295e+00 -3.55271368e-15 -6.14033129e+01\n",
            "  2.83696732e+01  1.92180395e+01  2.23353568e+01  8.49450182e+00\n",
            " -8.17591788e-03  9.53911089e-01 -2.41137993e+01 -4.11392625e+00\n",
            " -4.93636481e+00  8.03558699e+00 -3.61503753e+01 -5.90331287e+00\n",
            " -3.09263573e+01  3.95213039e+01 -3.88467039e+01 -1.59426295e+00\n",
            "  0.00000000e+00 -6.14033129e+01  2.83696732e+01  1.92180395e+01\n",
            "  2.23353568e+01  8.49450182e+00 -8.17591788e-03]\n"
          ]
        }
      ],
      "source": [
        "y_hat2 = reg4.predict(x3_test)\n",
        "print(reg4.score(x3_test, y3_test))\n",
        "print(reg4.intercept_) # Intercept value\n",
        "print(reg4.coef_) # Regression coefficients"
      ]
    },
    {
      "cell_type": "markdown",
      "id": "c03a4cd7",
      "metadata": {},
      "source": [
        "**6** The coefficients change because the weight of each row is affected by the introduction of more one-hot encoded variables to the dataset. The weights of the variables are affected by the weights of each other, as review score might be more or less impactful to the model when variables are added or removed."
      ]
    },
    {
      "cell_type": "markdown",
      "id": "95f22300-0180-4ed2-be8f-ed56cf4cd36b",
      "metadata": {
        "id": "95f22300-0180-4ed2-be8f-ed56cf4cd36b"
      },
      "source": [
        "**Q3.** This question is a case study for linear models. The data are about car prices. In particular, they include:\n",
        "\n",
        "  - `Price`, `Color`, `Seating_Capacity`\n",
        "  - `Body_Type`: crossover, hatchback, muv, sedan, suv\n",
        "  - `Make`, `Make_Year`: The brand of car and year produced\n",
        "  - `Mileage_Run`: The number of miles on the odometer\n",
        "  - `Fuel_Type`: Diesel or gasoline/petrol\n",
        "  - `Transmission`, `Transmission_Type`:  speeds and automatic/manual\n",
        "\n",
        "  1. Load `cars_hw.csv`. These data were really dirty, and I've already cleaned them a significant amount in terms of missing values and other issues, but some issues remain (e.g. outliers, badly scaled variables that require a log or arcsinh transformation). Clean the data however you think is most appropriate.\n",
        "  2. Summarize the `Price` variable and create a kernel density plot. Use `.groupby()` and `.describe()` to summarize prices by brand (`Make`). Make a grouped kernel density plot by `Make`. Which car brands are the most expensive? What do prices look like in general?\n",
        "  3. Split the data into an 80% training set and a 20% testing set.\n",
        "  4. Make a model where you regress price on the numeric variables alone; what is the $R^2$ and `RMSE` on the training set and test set? Make a second model where, for the categorical variables, you regress price on a model comprised of one-hot encoded regressors/features alone (you can use `pd.get_dummies()`; be careful of the dummy variable trap); what is the $R^2$ and `RMSE` on the test set? Which model performs better on the test set? Make a third model that combines all the regressors from the previous two; what is the $R^2$ and `RMSE` on the test set? Does the joint model perform better or worse, and by home much?\n",
        "  5. Use the `PolynomialFeatures` function from `sklearn` to expand the set of numerical variables you're using in the regression. As you increase the degree of the expansion, how do the $R^2$ and `RMSE` change? At what point does $R^2$ go negative on the test set? For your best model with expanded features, what is the $R^2$ and `RMSE`? How does it compare to your best model from part 4?\n",
        "  6. For your best model so far, determine the predicted values for the test data and plot them against the true values. Do the predicted values and true values roughly line up along the diagonal, or not? Compute the residuals/errors for the test data and create a kernel density plot. Do the residuals look roughly bell-shaped around zero? Evaluate the strengths and weaknesses of your model."
      ]
    },
    {
      "cell_type": "code",
      "execution_count": 18,
      "id": "7a85b200",
      "metadata": {},
      "outputs": [
        {
          "data": {
            "text/html": [
              "<div>\n",
              "<style scoped>\n",
              "    .dataframe tbody tr th:only-of-type {\n",
              "        vertical-align: middle;\n",
              "    }\n",
              "\n",
              "    .dataframe tbody tr th {\n",
              "        vertical-align: top;\n",
              "    }\n",
              "\n",
              "    .dataframe thead th {\n",
              "        text-align: right;\n",
              "    }\n",
              "</style>\n",
              "<table border=\"1\" class=\"dataframe\">\n",
              "  <thead>\n",
              "    <tr style=\"text-align: right;\">\n",
              "      <th></th>\n",
              "      <th>Unnamed: 0</th>\n",
              "      <th>Make</th>\n",
              "      <th>Make_Year</th>\n",
              "      <th>Color</th>\n",
              "      <th>Body_Type</th>\n",
              "      <th>Mileage_Run</th>\n",
              "      <th>No_of_Owners</th>\n",
              "      <th>Seating_Capacity</th>\n",
              "      <th>Fuel_Type</th>\n",
              "      <th>Transmission</th>\n",
              "      <th>Transmission_Type</th>\n",
              "      <th>Price</th>\n",
              "    </tr>\n",
              "  </thead>\n",
              "  <tbody>\n",
              "    <tr>\n",
              "      <th>0</th>\n",
              "      <td>1</td>\n",
              "      <td>Volkswagen</td>\n",
              "      <td>2017</td>\n",
              "      <td>silver</td>\n",
              "      <td>sedan</td>\n",
              "      <td>44611</td>\n",
              "      <td>1st</td>\n",
              "      <td>5</td>\n",
              "      <td>diesel</td>\n",
              "      <td>7-Speed</td>\n",
              "      <td>Automatic</td>\n",
              "      <td>657000</td>\n",
              "    </tr>\n",
              "    <tr>\n",
              "      <th>1</th>\n",
              "      <td>2</td>\n",
              "      <td>Hyundai</td>\n",
              "      <td>2016</td>\n",
              "      <td>red</td>\n",
              "      <td>crossover</td>\n",
              "      <td>20305</td>\n",
              "      <td>1st</td>\n",
              "      <td>5</td>\n",
              "      <td>petrol</td>\n",
              "      <td>5-Speed</td>\n",
              "      <td>Manual</td>\n",
              "      <td>682000</td>\n",
              "    </tr>\n",
              "    <tr>\n",
              "      <th>2</th>\n",
              "      <td>3</td>\n",
              "      <td>Honda</td>\n",
              "      <td>2019</td>\n",
              "      <td>white</td>\n",
              "      <td>suv</td>\n",
              "      <td>29540</td>\n",
              "      <td>2nd</td>\n",
              "      <td>5</td>\n",
              "      <td>petrol</td>\n",
              "      <td>5-Speed</td>\n",
              "      <td>Manual</td>\n",
              "      <td>793000</td>\n",
              "    </tr>\n",
              "    <tr>\n",
              "      <th>3</th>\n",
              "      <td>4</td>\n",
              "      <td>Renault</td>\n",
              "      <td>2017</td>\n",
              "      <td>bronze</td>\n",
              "      <td>hatchback</td>\n",
              "      <td>35680</td>\n",
              "      <td>1st</td>\n",
              "      <td>5</td>\n",
              "      <td>petrol</td>\n",
              "      <td>5-Speed</td>\n",
              "      <td>Manual</td>\n",
              "      <td>414000</td>\n",
              "    </tr>\n",
              "    <tr>\n",
              "      <th>4</th>\n",
              "      <td>5</td>\n",
              "      <td>Hyundai</td>\n",
              "      <td>2017</td>\n",
              "      <td>orange</td>\n",
              "      <td>hatchback</td>\n",
              "      <td>25126</td>\n",
              "      <td>1st</td>\n",
              "      <td>5</td>\n",
              "      <td>petrol</td>\n",
              "      <td>5-Speed</td>\n",
              "      <td>Manual</td>\n",
              "      <td>515000</td>\n",
              "    </tr>\n",
              "    <tr>\n",
              "      <th>5</th>\n",
              "      <td>6</td>\n",
              "      <td>Hyundai</td>\n",
              "      <td>2016</td>\n",
              "      <td>red</td>\n",
              "      <td>hatchback</td>\n",
              "      <td>52261</td>\n",
              "      <td>1st</td>\n",
              "      <td>5</td>\n",
              "      <td>petrol</td>\n",
              "      <td>5-Speed</td>\n",
              "      <td>Manual</td>\n",
              "      <td>604000</td>\n",
              "    </tr>\n",
              "    <tr>\n",
              "      <th>6</th>\n",
              "      <td>7</td>\n",
              "      <td>Honda</td>\n",
              "      <td>2012</td>\n",
              "      <td>grey</td>\n",
              "      <td>hatchback</td>\n",
              "      <td>28108</td>\n",
              "      <td>2nd</td>\n",
              "      <td>5</td>\n",
              "      <td>petrol</td>\n",
              "      <td>5-Speed</td>\n",
              "      <td>Manual</td>\n",
              "      <td>316000</td>\n",
              "    </tr>\n",
              "    <tr>\n",
              "      <th>7</th>\n",
              "      <td>8</td>\n",
              "      <td>Tata</td>\n",
              "      <td>2019</td>\n",
              "      <td>grey</td>\n",
              "      <td>suv</td>\n",
              "      <td>92603</td>\n",
              "      <td>1st</td>\n",
              "      <td>5</td>\n",
              "      <td>diesel</td>\n",
              "      <td>6-Speed</td>\n",
              "      <td>Automatic</td>\n",
              "      <td>1419000</td>\n",
              "    </tr>\n",
              "    <tr>\n",
              "      <th>8</th>\n",
              "      <td>9</td>\n",
              "      <td>Hyundai</td>\n",
              "      <td>2021</td>\n",
              "      <td>blue</td>\n",
              "      <td>hatchback</td>\n",
              "      <td>16304</td>\n",
              "      <td>1st</td>\n",
              "      <td>5</td>\n",
              "      <td>petrol</td>\n",
              "      <td>5-Speed</td>\n",
              "      <td>Manual</td>\n",
              "      <td>710000</td>\n",
              "    </tr>\n",
              "    <tr>\n",
              "      <th>9</th>\n",
              "      <td>10</td>\n",
              "      <td>Renault</td>\n",
              "      <td>2019</td>\n",
              "      <td>bronze</td>\n",
              "      <td>hatchback</td>\n",
              "      <td>26350</td>\n",
              "      <td>2nd</td>\n",
              "      <td>5</td>\n",
              "      <td>petrol</td>\n",
              "      <td>5-Speed</td>\n",
              "      <td>Manual</td>\n",
              "      <td>392000</td>\n",
              "    </tr>\n",
              "  </tbody>\n",
              "</table>\n",
              "</div>"
            ],
            "text/plain": [
              "   Unnamed: 0        Make  Make_Year   Color  Body_Type  Mileage_Run  \\\n",
              "0           1  Volkswagen       2017  silver      sedan        44611   \n",
              "1           2     Hyundai       2016     red  crossover        20305   \n",
              "2           3       Honda       2019   white        suv        29540   \n",
              "3           4     Renault       2017  bronze  hatchback        35680   \n",
              "4           5     Hyundai       2017  orange  hatchback        25126   \n",
              "5           6     Hyundai       2016     red  hatchback        52261   \n",
              "6           7       Honda       2012    grey  hatchback        28108   \n",
              "7           8        Tata       2019    grey        suv        92603   \n",
              "8           9     Hyundai       2021    blue  hatchback        16304   \n",
              "9          10     Renault       2019  bronze  hatchback        26350   \n",
              "\n",
              "  No_of_Owners  Seating_Capacity Fuel_Type Transmission Transmission_Type  \\\n",
              "0          1st                 5    diesel      7-Speed         Automatic   \n",
              "1          1st                 5    petrol      5-Speed            Manual   \n",
              "2          2nd                 5    petrol      5-Speed            Manual   \n",
              "3          1st                 5    petrol      5-Speed            Manual   \n",
              "4          1st                 5    petrol      5-Speed            Manual   \n",
              "5          1st                 5    petrol      5-Speed            Manual   \n",
              "6          2nd                 5    petrol      5-Speed            Manual   \n",
              "7          1st                 5    diesel      6-Speed         Automatic   \n",
              "8          1st                 5    petrol      5-Speed            Manual   \n",
              "9          2nd                 5    petrol      5-Speed            Manual   \n",
              "\n",
              "     Price  \n",
              "0   657000  \n",
              "1   682000  \n",
              "2   793000  \n",
              "3   414000  \n",
              "4   515000  \n",
              "5   604000  \n",
              "6   316000  \n",
              "7  1419000  \n",
              "8   710000  \n",
              "9   392000  "
            ]
          },
          "execution_count": 18,
          "metadata": {},
          "output_type": "execute_result"
        }
      ],
      "source": [
        "cars = pd.read_csv('./data/cars_hw.csv')\n",
        "cars.head(10)"
      ]
    },
    {
      "cell_type": "code",
      "execution_count": 19,
      "id": "cd504bbc",
      "metadata": {},
      "outputs": [
        {
          "data": {
            "text/plain": [
              "<Axes: ylabel='Price'>"
            ]
          },
          "execution_count": 19,
          "metadata": {},
          "output_type": "execute_result"
        },
        {
          "data": {
            "image/png": "[encoded data removed]",
            "text/plain": [
              "<Figure size 640x480 with 1 Axes>"
            ]
          },
          "metadata": {},
          "output_type": "display_data"
        }
      ],
      "source": [
        "sns.boxplot(cars['Price'])"
      ]
    },
    {
      "cell_type": "code",
      "execution_count": 20,
      "id": "464f7166",
      "metadata": {},
      "outputs": [],
      "source": [
        "cars['Pricelog'] = np.log(cars['Price']) \n",
        "cars['Mileagelog'] = np.log(cars['Mileage_Run'])"
      ]
    },
    {
      "cell_type": "code",
      "execution_count": 21,
      "id": "322e667b",
      "metadata": {},
      "outputs": [
        {
          "data": {
            "text/plain": [
              "0    10.705736\n",
              "1     9.918622\n",
              "2    10.293501\n",
              "3    10.482346\n",
              "4    10.131658\n",
              "5    10.864006\n",
              "6    10.243810\n",
              "Name: Mileagelog, dtype: float64"
            ]
          },
          "execution_count": 21,
          "metadata": {},
          "output_type": "execute_result"
        }
      ],
      "source": [
        "cars['Mileagelog'].head(7)"
      ]
    },
    {
      "cell_type": "code",
      "execution_count": 22,
      "id": "60b80ad3",
      "metadata": {},
      "outputs": [
        {
          "data": {
            "text/plain": [
              "<Axes: ylabel='Mileagelog'>"
            ]
          },
          "execution_count": 22,
          "metadata": {},
          "output_type": "execute_result"
        },
        {
          "data": {
            "image/png": "[encoded data removed]",
            "text/plain": [
              "<Figure size 640x480 with 1 Axes>"
            ]
          },
          "metadata": {},
          "output_type": "display_data"
        }
      ],
      "source": [
        "sns.boxplot(cars['Mileagelog'])"
      ]
    },
    {
      "cell_type": "code",
      "execution_count": 23,
      "id": "5c51ae89",
      "metadata": {},
      "outputs": [],
      "source": [
        "cars2 = cars[(cars['Mileagelog'] > 8.7)]\n"
      ]
    },
    {
      "cell_type": "code",
      "execution_count": 24,
      "id": "2f57ba1d",
      "metadata": {},
      "outputs": [
        {
          "data": {
            "text/plain": [
              "<Axes: ylabel='Mileagelog'>"
            ]
          },
          "execution_count": 24,
          "metadata": {},
          "output_type": "execute_result"
        },
        {
          "data": {
            "image/png": "[encoded data removed]",
            "text/plain": [
              "<Figure size 640x480 with 1 Axes>"
            ]
          },
          "metadata": {},
          "output_type": "display_data"
        }
      ],
      "source": [
        "sns.boxplot(cars2['Mileagelog'])"
      ]
    },
    {
      "cell_type": "code",
      "execution_count": 25,
      "id": "b667a4d0",
      "metadata": {},
      "outputs": [
        {
          "data": {
            "text/plain": [
              "count    9.760000e+02\n",
              "mean     7.410195e+05\n",
              "std      3.673234e+05\n",
              "min      1.880000e+05\n",
              "25%      4.757500e+05\n",
              "50%      6.665000e+05\n",
              "75%      8.830000e+05\n",
              "max      2.941000e+06\n",
              "Name: Price, dtype: float64"
            ]
          },
          "execution_count": 25,
          "metadata": {},
          "output_type": "execute_result"
        }
      ],
      "source": [
        "cars['Price'].describe()"
      ]
    },
    {
      "cell_type": "code",
      "execution_count": 26,
      "id": "051d3304",
      "metadata": {},
      "outputs": [
        {
          "data": {
            "text/html": [
              "<div>\n",
              "<style scoped>\n",
              "    .dataframe tbody tr th:only-of-type {\n",
              "        vertical-align: middle;\n",
              "    }\n",
              "\n",
              "    .dataframe tbody tr th {\n",
              "        vertical-align: top;\n",
              "    }\n",
              "\n",
              "    .dataframe thead th {\n",
              "        text-align: right;\n",
              "    }\n",
              "</style>\n",
              "<table border=\"1\" class=\"dataframe\">\n",
              "  <thead>\n",
              "    <tr style=\"text-align: right;\">\n",
              "      <th></th>\n",
              "      <th>count</th>\n",
              "      <th>mean</th>\n",
              "      <th>std</th>\n",
              "      <th>min</th>\n",
              "      <th>25%</th>\n",
              "      <th>50%</th>\n",
              "      <th>75%</th>\n",
              "      <th>max</th>\n",
              "    </tr>\n",
              "    <tr>\n",
              "      <th>Make</th>\n",
              "      <th></th>\n",
              "      <th></th>\n",
              "      <th></th>\n",
              "      <th></th>\n",
              "      <th></th>\n",
              "      <th></th>\n",
              "      <th></th>\n",
              "      <th></th>\n",
              "    </tr>\n",
              "  </thead>\n",
              "  <tbody>\n",
              "    <tr>\n",
              "      <th>Chevrolet</th>\n",
              "      <td>6.0</td>\n",
              "      <td>4.535000e+05</td>\n",
              "      <td>2.466064e+05</td>\n",
              "      <td>267000.0</td>\n",
              "      <td>288500.0</td>\n",
              "      <td>345500.0</td>\n",
              "      <td>537500.0</td>\n",
              "      <td>892000.0</td>\n",
              "    </tr>\n",
              "    <tr>\n",
              "      <th>Datsun</th>\n",
              "      <td>3.0</td>\n",
              "      <td>2.896667e+05</td>\n",
              "      <td>1.050397e+04</td>\n",
              "      <td>279000.0</td>\n",
              "      <td>284500.0</td>\n",
              "      <td>290000.0</td>\n",
              "      <td>295000.0</td>\n",
              "      <td>300000.0</td>\n",
              "    </tr>\n",
              "    <tr>\n",
              "      <th>Ford</th>\n",
              "      <td>52.0</td>\n",
              "      <td>7.211731e+05</td>\n",
              "      <td>1.409277e+05</td>\n",
              "      <td>290000.0</td>\n",
              "      <td>635000.0</td>\n",
              "      <td>707500.0</td>\n",
              "      <td>787000.0</td>\n",
              "      <td>1066000.0</td>\n",
              "    </tr>\n",
              "    <tr>\n",
              "      <th>Honda</th>\n",
              "      <td>73.0</td>\n",
              "      <td>7.989726e+05</td>\n",
              "      <td>2.665091e+05</td>\n",
              "      <td>316000.0</td>\n",
              "      <td>581000.0</td>\n",
              "      <td>785000.0</td>\n",
              "      <td>915000.0</td>\n",
              "      <td>1537000.0</td>\n",
              "    </tr>\n",
              "    <tr>\n",
              "      <th>Hyundai</th>\n",
              "      <td>305.0</td>\n",
              "      <td>6.918918e+05</td>\n",
              "      <td>2.791597e+05</td>\n",
              "      <td>248000.0</td>\n",
              "      <td>485000.0</td>\n",
              "      <td>638000.0</td>\n",
              "      <td>837000.0</td>\n",
              "      <td>1742000.0</td>\n",
              "    </tr>\n",
              "    <tr>\n",
              "      <th>Jeep</th>\n",
              "      <td>4.0</td>\n",
              "      <td>1.499500e+06</td>\n",
              "      <td>1.525134e+05</td>\n",
              "      <td>1290000.0</td>\n",
              "      <td>1447500.0</td>\n",
              "      <td>1529500.0</td>\n",
              "      <td>1581500.0</td>\n",
              "      <td>1649000.0</td>\n",
              "    </tr>\n",
              "    <tr>\n",
              "      <th>Kia</th>\n",
              "      <td>8.0</td>\n",
              "      <td>1.614750e+06</td>\n",
              "      <td>1.190567e+05</td>\n",
              "      <td>1369000.0</td>\n",
              "      <td>1579000.0</td>\n",
              "      <td>1628500.0</td>\n",
              "      <td>1705750.0</td>\n",
              "      <td>1741000.0</td>\n",
              "    </tr>\n",
              "    <tr>\n",
              "      <th>MG Motors</th>\n",
              "      <td>35.0</td>\n",
              "      <td>1.869457e+06</td>\n",
              "      <td>1.216611e+05</td>\n",
              "      <td>1589000.0</td>\n",
              "      <td>1786500.0</td>\n",
              "      <td>1848000.0</td>\n",
              "      <td>1978000.0</td>\n",
              "      <td>2019000.0</td>\n",
              "    </tr>\n",
              "    <tr>\n",
              "      <th>Mahindra</th>\n",
              "      <td>18.0</td>\n",
              "      <td>1.100167e+06</td>\n",
              "      <td>1.755493e+05</td>\n",
              "      <td>796000.0</td>\n",
              "      <td>1037000.0</td>\n",
              "      <td>1094500.0</td>\n",
              "      <td>1157000.0</td>\n",
              "      <td>1465000.0</td>\n",
              "    </tr>\n",
              "    <tr>\n",
              "      <th>Maruti Suzuki</th>\n",
              "      <td>293.0</td>\n",
              "      <td>5.887850e+05</td>\n",
              "      <td>2.160199e+05</td>\n",
              "      <td>237000.0</td>\n",
              "      <td>411000.0</td>\n",
              "      <td>527000.0</td>\n",
              "      <td>764000.0</td>\n",
              "      <td>1163000.0</td>\n",
              "    </tr>\n",
              "    <tr>\n",
              "      <th>Nissan</th>\n",
              "      <td>4.0</td>\n",
              "      <td>8.842500e+05</td>\n",
              "      <td>2.895599e+05</td>\n",
              "      <td>475000.0</td>\n",
              "      <td>782500.0</td>\n",
              "      <td>978000.0</td>\n",
              "      <td>1079750.0</td>\n",
              "      <td>1106000.0</td>\n",
              "    </tr>\n",
              "    <tr>\n",
              "      <th>Renault</th>\n",
              "      <td>68.0</td>\n",
              "      <td>6.625735e+05</td>\n",
              "      <td>2.148273e+05</td>\n",
              "      <td>287000.0</td>\n",
              "      <td>475000.0</td>\n",
              "      <td>644000.0</td>\n",
              "      <td>801000.0</td>\n",
              "      <td>1164000.0</td>\n",
              "    </tr>\n",
              "    <tr>\n",
              "      <th>Skoda</th>\n",
              "      <td>5.0</td>\n",
              "      <td>1.136000e+06</td>\n",
              "      <td>1.070175e+06</td>\n",
              "      <td>436000.0</td>\n",
              "      <td>466000.0</td>\n",
              "      <td>538000.0</td>\n",
              "      <td>1299000.0</td>\n",
              "      <td>2941000.0</td>\n",
              "    </tr>\n",
              "    <tr>\n",
              "      <th>Tata</th>\n",
              "      <td>23.0</td>\n",
              "      <td>1.055217e+06</td>\n",
              "      <td>5.578305e+05</td>\n",
              "      <td>188000.0</td>\n",
              "      <td>779500.0</td>\n",
              "      <td>869000.0</td>\n",
              "      <td>1552000.0</td>\n",
              "      <td>2100000.0</td>\n",
              "    </tr>\n",
              "    <tr>\n",
              "      <th>Toyota</th>\n",
              "      <td>50.0</td>\n",
              "      <td>8.003400e+05</td>\n",
              "      <td>2.466900e+05</td>\n",
              "      <td>368000.0</td>\n",
              "      <td>526250.0</td>\n",
              "      <td>894000.0</td>\n",
              "      <td>1023000.0</td>\n",
              "      <td>1092000.0</td>\n",
              "    </tr>\n",
              "    <tr>\n",
              "      <th>Volkswagen</th>\n",
              "      <td>29.0</td>\n",
              "      <td>6.058276e+05</td>\n",
              "      <td>1.198312e+05</td>\n",
              "      <td>402000.0</td>\n",
              "      <td>542000.0</td>\n",
              "      <td>607000.0</td>\n",
              "      <td>699000.0</td>\n",
              "      <td>790000.0</td>\n",
              "    </tr>\n",
              "  </tbody>\n",
              "</table>\n",
              "</div>"
            ],
            "text/plain": [
              "               count          mean           std        min        25%  \\\n",
              "Make                                                                     \n",
              "Chevrolet        6.0  4.535000e+05  2.466064e+05   267000.0   288500.0   \n",
              "Datsun           3.0  2.896667e+05  1.050397e+04   279000.0   284500.0   \n",
              "Ford            52.0  7.211731e+05  1.409277e+05   290000.0   635000.0   \n",
              "Honda           73.0  7.989726e+05  2.665091e+05   316000.0   581000.0   \n",
              "Hyundai        305.0  6.918918e+05  2.791597e+05   248000.0   485000.0   \n",
              "Jeep             4.0  1.499500e+06  1.525134e+05  1290000.0  1447500.0   \n",
              "Kia              8.0  1.614750e+06  1.190567e+05  1369000.0  1579000.0   \n",
              "MG Motors       35.0  1.869457e+06  1.216611e+05  1589000.0  1786500.0   \n",
              "Mahindra        18.0  1.100167e+06  1.755493e+05   796000.0  1037000.0   \n",
              "Maruti Suzuki  293.0  5.887850e+05  2.160199e+05   237000.0   411000.0   \n",
              "Nissan           4.0  8.842500e+05  2.895599e+05   475000.0   782500.0   \n",
              "Renault         68.0  6.625735e+05  2.148273e+05   287000.0   475000.0   \n",
              "Skoda            5.0  1.136000e+06  1.070175e+06   436000.0   466000.0   \n",
              "Tata            23.0  1.055217e+06  5.578305e+05   188000.0   779500.0   \n",
              "Toyota          50.0  8.003400e+05  2.466900e+05   368000.0   526250.0   \n",
              "Volkswagen      29.0  6.058276e+05  1.198312e+05   402000.0   542000.0   \n",
              "\n",
              "                     50%        75%        max  \n",
              "Make                                            \n",
              "Chevrolet       345500.0   537500.0   892000.0  \n",
              "Datsun          290000.0   295000.0   300000.0  \n",
              "Ford            707500.0   787000.0  1066000.0  \n",
              "Honda           785000.0   915000.0  1537000.0  \n",
              "Hyundai         638000.0   837000.0  1742000.0  \n",
              "Jeep           1529500.0  1581500.0  1649000.0  \n",
              "Kia            1628500.0  1705750.0  1741000.0  \n",
              "MG Motors      1848000.0  1978000.0  2019000.0  \n",
              "Mahindra       1094500.0  1157000.0  1465000.0  \n",
              "Maruti Suzuki   527000.0   764000.0  1163000.0  \n",
              "Nissan          978000.0  1079750.0  1106000.0  \n",
              "Renault         644000.0   801000.0  1164000.0  \n",
              "Skoda           538000.0  1299000.0  2941000.0  \n",
              "Tata            869000.0  1552000.0  2100000.0  \n",
              "Toyota          894000.0  1023000.0  1092000.0  \n",
              "Volkswagen      607000.0   699000.0   790000.0  "
            ]
          },
          "execution_count": 26,
          "metadata": {},
          "output_type": "execute_result"
        }
      ],
      "source": [
        "cars['Price'].groupby(cars['Make']).describe()"
      ]
    },
    {
      "cell_type": "code",
      "execution_count": 27,
      "id": "1dd10152",
      "metadata": {},
      "outputs": [
        {
          "name": "stdout",
          "output_type": "stream",
          "text": [
            "object\n",
            "['Volkswagen' 'Hyundai' 'Honda' 'Renault' 'Tata' 'Chevrolet'\n",
            " 'Maruti Suzuki' 'Toyota' 'Mahindra' 'Ford' 'Nissan' 'Jeep' 'MG Motors'\n",
            " 'Kia' 'Skoda' 'Datsun']\n"
          ]
        }
      ],
      "source": [
        "print(cars['Make'].dtype)\n",
        "print(cars['Make'].unique())"
      ]
    },
    {
      "cell_type": "code",
      "execution_count": 28,
      "id": "d0d4e10a",
      "metadata": {},
      "outputs": [
        {
          "data": {
            "text/plain": [
              "<Axes: xlabel='Price', ylabel='Density'>"
            ]
          },
          "execution_count": 28,
          "metadata": {},
          "output_type": "execute_result"
        },
        {
          "data": {
            "image/png": "[encoded data removed]",
            "text/plain": [
              "<Figure size 640x480 with 1 Axes>"
            ]
          },
          "metadata": {},
          "output_type": "display_data"
        }
      ],
      "source": [
        "sns.kdeplot(cars, x = 'Price', hue = 'Make')"
      ]
    },
    {
      "cell_type": "code",
      "execution_count": 29,
      "id": "d57c1466",
      "metadata": {},
      "outputs": [
        {
          "data": {
            "text/html": [
              "<div>\n",
              "<style scoped>\n",
              "    .dataframe tbody tr th:only-of-type {\n",
              "        vertical-align: middle;\n",
              "    }\n",
              "\n",
              "    .dataframe tbody tr th {\n",
              "        vertical-align: top;\n",
              "    }\n",
              "\n",
              "    .dataframe thead th {\n",
              "        text-align: right;\n",
              "    }\n",
              "</style>\n",
              "<table border=\"1\" class=\"dataframe\">\n",
              "  <thead>\n",
              "    <tr style=\"text-align: right;\">\n",
              "      <th></th>\n",
              "      <th>Make_Year</th>\n",
              "      <th>Mileage_Run</th>\n",
              "      <th>Seating_Capacity</th>\n",
              "      <th>Mileagelog</th>\n",
              "    </tr>\n",
              "  </thead>\n",
              "  <tbody>\n",
              "    <tr>\n",
              "      <th>0</th>\n",
              "      <td>2017</td>\n",
              "      <td>44611</td>\n",
              "      <td>5</td>\n",
              "      <td>10.705736</td>\n",
              "    </tr>\n",
              "    <tr>\n",
              "      <th>1</th>\n",
              "      <td>2016</td>\n",
              "      <td>20305</td>\n",
              "      <td>5</td>\n",
              "      <td>9.918622</td>\n",
              "    </tr>\n",
              "    <tr>\n",
              "      <th>2</th>\n",
              "      <td>2019</td>\n",
              "      <td>29540</td>\n",
              "      <td>5</td>\n",
              "      <td>10.293501</td>\n",
              "    </tr>\n",
              "    <tr>\n",
              "      <th>3</th>\n",
              "      <td>2017</td>\n",
              "      <td>35680</td>\n",
              "      <td>5</td>\n",
              "      <td>10.482346</td>\n",
              "    </tr>\n",
              "    <tr>\n",
              "      <th>4</th>\n",
              "      <td>2017</td>\n",
              "      <td>25126</td>\n",
              "      <td>5</td>\n",
              "      <td>10.131658</td>\n",
              "    </tr>\n",
              "    <tr>\n",
              "      <th>5</th>\n",
              "      <td>2016</td>\n",
              "      <td>52261</td>\n",
              "      <td>5</td>\n",
              "      <td>10.864006</td>\n",
              "    </tr>\n",
              "    <tr>\n",
              "      <th>6</th>\n",
              "      <td>2012</td>\n",
              "      <td>28108</td>\n",
              "      <td>5</td>\n",
              "      <td>10.243810</td>\n",
              "    </tr>\n",
              "    <tr>\n",
              "      <th>7</th>\n",
              "      <td>2019</td>\n",
              "      <td>92603</td>\n",
              "      <td>5</td>\n",
              "      <td>11.436077</td>\n",
              "    </tr>\n",
              "    <tr>\n",
              "      <th>8</th>\n",
              "      <td>2021</td>\n",
              "      <td>16304</td>\n",
              "      <td>5</td>\n",
              "      <td>9.699166</td>\n",
              "    </tr>\n",
              "    <tr>\n",
              "      <th>9</th>\n",
              "      <td>2019</td>\n",
              "      <td>26350</td>\n",
              "      <td>5</td>\n",
              "      <td>10.179224</td>\n",
              "    </tr>\n",
              "  </tbody>\n",
              "</table>\n",
              "</div>"
            ],
            "text/plain": [
              "   Make_Year  Mileage_Run  Seating_Capacity  Mileagelog\n",
              "0       2017        44611                 5   10.705736\n",
              "1       2016        20305                 5    9.918622\n",
              "2       2019        29540                 5   10.293501\n",
              "3       2017        35680                 5   10.482346\n",
              "4       2017        25126                 5   10.131658\n",
              "5       2016        52261                 5   10.864006\n",
              "6       2012        28108                 5   10.243810\n",
              "7       2019        92603                 5   11.436077\n",
              "8       2021        16304                 5    9.699166\n",
              "9       2019        26350                 5   10.179224"
            ]
          },
          "execution_count": 29,
          "metadata": {},
          "output_type": "execute_result"
        }
      ],
      "source": [
        "from sklearn.model_selection import train_test_split\n",
        "y = cars2['Pricelog']\n",
        "x = cars2.drop(columns = ['Unnamed: 0', 'Make', 'Color', 'Body_Type', 'Pricelog', 'Price', 'Fuel_Type', 'Transmission', 'Transmission_Type', 'No_of_Owners'])\n",
        "x.head(10)"
      ]
    },
    {
      "cell_type": "code",
      "execution_count": 30,
      "id": "b244fe1f",
      "metadata": {},
      "outputs": [],
      "source": [
        "# 4\n",
        "x_train, x_test, y_train, y_test = train_test_split(x, y, test_size=0.2)"
      ]
    },
    {
      "cell_type": "code",
      "execution_count": 31,
      "id": "7df0c7e1",
      "metadata": {},
      "outputs": [
        {
          "name": "stdout",
          "output_type": "stream",
          "text": [
            "0.46169891540993346\n",
            "-233.548682701367\n",
            "[1.21552814e-01 7.50067730e-07 6.99324439e-02 1.35096455e-01]\n"
          ]
        }
      ],
      "source": [
        "reg5 = LinearRegression(fit_intercept = True).fit(x_train, y_train)\n",
        "y_hat3 = reg5.predict(x_test)\n",
        "print(reg5.score(x_test, y_test))\n",
        "print(reg5.intercept_) # Intercept value\n",
        "print(reg5.coef_) # Regression coefficients"
      ]
    },
    {
      "cell_type": "code",
      "execution_count": 32,
      "id": "aa92ed75",
      "metadata": {},
      "outputs": [],
      "source": [
        "x6 = pd.get_dummies(cars2[['Make', 'Color', 'Body_Type', 'Fuel_Type', 'Transmission', 'Transmission_Type', 'No_of_Owners']], drop_first = True)"
      ]
    },
    {
      "cell_type": "code",
      "execution_count": 33,
      "id": "45df9757",
      "metadata": {},
      "outputs": [
        {
          "data": {
            "text/html": [
              "<div>\n",
              "<style scoped>\n",
              "    .dataframe tbody tr th:only-of-type {\n",
              "        vertical-align: middle;\n",
              "    }\n",
              "\n",
              "    .dataframe tbody tr th {\n",
              "        vertical-align: top;\n",
              "    }\n",
              "\n",
              "    .dataframe thead th {\n",
              "        text-align: right;\n",
              "    }\n",
              "</style>\n",
              "<table border=\"1\" class=\"dataframe\">\n",
              "  <thead>\n",
              "    <tr style=\"text-align: right;\">\n",
              "      <th></th>\n",
              "      <th>Make_Datsun</th>\n",
              "      <th>Make_Ford</th>\n",
              "      <th>Make_Honda</th>\n",
              "      <th>Make_Hyundai</th>\n",
              "      <th>Make_Jeep</th>\n",
              "      <th>Make_Kia</th>\n",
              "      <th>Make_MG Motors</th>\n",
              "      <th>Make_Mahindra</th>\n",
              "      <th>Make_Maruti Suzuki</th>\n",
              "      <th>Make_Nissan</th>\n",
              "      <th>...</th>\n",
              "      <th>Body_Type_suv</th>\n",
              "      <th>Fuel_Type_petrol</th>\n",
              "      <th>Fuel_Type_petrol+cng</th>\n",
              "      <th>Transmission_5-Speed</th>\n",
              "      <th>Transmission_6-Speed</th>\n",
              "      <th>Transmission_7-Speed</th>\n",
              "      <th>Transmission_CVT</th>\n",
              "      <th>Transmission_Type_Manual</th>\n",
              "      <th>No_of_Owners_2nd</th>\n",
              "      <th>No_of_Owners_3rd</th>\n",
              "    </tr>\n",
              "  </thead>\n",
              "  <tbody>\n",
              "    <tr>\n",
              "      <th>0</th>\n",
              "      <td>False</td>\n",
              "      <td>False</td>\n",
              "      <td>False</td>\n",
              "      <td>False</td>\n",
              "      <td>False</td>\n",
              "      <td>False</td>\n",
              "      <td>False</td>\n",
              "      <td>False</td>\n",
              "      <td>False</td>\n",
              "      <td>False</td>\n",
              "      <td>...</td>\n",
              "      <td>False</td>\n",
              "      <td>False</td>\n",
              "      <td>False</td>\n",
              "      <td>False</td>\n",
              "      <td>False</td>\n",
              "      <td>True</td>\n",
              "      <td>False</td>\n",
              "      <td>False</td>\n",
              "      <td>False</td>\n",
              "      <td>False</td>\n",
              "    </tr>\n",
              "    <tr>\n",
              "      <th>1</th>\n",
              "      <td>False</td>\n",
              "      <td>False</td>\n",
              "      <td>False</td>\n",
              "      <td>True</td>\n",
              "      <td>False</td>\n",
              "      <td>False</td>\n",
              "      <td>False</td>\n",
              "      <td>False</td>\n",
              "      <td>False</td>\n",
              "      <td>False</td>\n",
              "      <td>...</td>\n",
              "      <td>False</td>\n",
              "      <td>True</td>\n",
              "      <td>False</td>\n",
              "      <td>True</td>\n",
              "      <td>False</td>\n",
              "      <td>False</td>\n",
              "      <td>False</td>\n",
              "      <td>True</td>\n",
              "      <td>False</td>\n",
              "      <td>False</td>\n",
              "    </tr>\n",
              "    <tr>\n",
              "      <th>2</th>\n",
              "      <td>False</td>\n",
              "      <td>False</td>\n",
              "      <td>True</td>\n",
              "      <td>False</td>\n",
              "      <td>False</td>\n",
              "      <td>False</td>\n",
              "      <td>False</td>\n",
              "      <td>False</td>\n",
              "      <td>False</td>\n",
              "      <td>False</td>\n",
              "      <td>...</td>\n",
              "      <td>True</td>\n",
              "      <td>True</td>\n",
              "      <td>False</td>\n",
              "      <td>True</td>\n",
              "      <td>False</td>\n",
              "      <td>False</td>\n",
              "      <td>False</td>\n",
              "      <td>True</td>\n",
              "      <td>True</td>\n",
              "      <td>False</td>\n",
              "    </tr>\n",
              "    <tr>\n",
              "      <th>3</th>\n",
              "      <td>False</td>\n",
              "      <td>False</td>\n",
              "      <td>False</td>\n",
              "      <td>False</td>\n",
              "      <td>False</td>\n",
              "      <td>False</td>\n",
              "      <td>False</td>\n",
              "      <td>False</td>\n",
              "      <td>False</td>\n",
              "      <td>False</td>\n",
              "      <td>...</td>\n",
              "      <td>False</td>\n",
              "      <td>True</td>\n",
              "      <td>False</td>\n",
              "      <td>True</td>\n",
              "      <td>False</td>\n",
              "      <td>False</td>\n",
              "      <td>False</td>\n",
              "      <td>True</td>\n",
              "      <td>False</td>\n",
              "      <td>False</td>\n",
              "    </tr>\n",
              "    <tr>\n",
              "      <th>4</th>\n",
              "      <td>False</td>\n",
              "      <td>False</td>\n",
              "      <td>False</td>\n",
              "      <td>True</td>\n",
              "      <td>False</td>\n",
              "      <td>False</td>\n",
              "      <td>False</td>\n",
              "      <td>False</td>\n",
              "      <td>False</td>\n",
              "      <td>False</td>\n",
              "      <td>...</td>\n",
              "      <td>False</td>\n",
              "      <td>True</td>\n",
              "      <td>False</td>\n",
              "      <td>True</td>\n",
              "      <td>False</td>\n",
              "      <td>False</td>\n",
              "      <td>False</td>\n",
              "      <td>True</td>\n",
              "      <td>False</td>\n",
              "      <td>False</td>\n",
              "    </tr>\n",
              "  </tbody>\n",
              "</table>\n",
              "<p>5 rows × 42 columns</p>\n",
              "</div>"
            ],
            "text/plain": [
              "   Make_Datsun  Make_Ford  Make_Honda  Make_Hyundai  Make_Jeep  Make_Kia  \\\n",
              "0        False      False       False         False      False     False   \n",
              "1        False      False       False          True      False     False   \n",
              "2        False      False        True         False      False     False   \n",
              "3        False      False       False         False      False     False   \n",
              "4        False      False       False          True      False     False   \n",
              "\n",
              "   Make_MG Motors  Make_Mahindra  Make_Maruti Suzuki  Make_Nissan  ...  \\\n",
              "0           False          False               False        False  ...   \n",
              "1           False          False               False        False  ...   \n",
              "2           False          False               False        False  ...   \n",
              "3           False          False               False        False  ...   \n",
              "4           False          False               False        False  ...   \n",
              "\n",
              "   Body_Type_suv  Fuel_Type_petrol  Fuel_Type_petrol+cng  \\\n",
              "0          False             False                 False   \n",
              "1          False              True                 False   \n",
              "2           True              True                 False   \n",
              "3          False              True                 False   \n",
              "4          False              True                 False   \n",
              "\n",
              "   Transmission_5-Speed  Transmission_6-Speed  Transmission_7-Speed  \\\n",
              "0                 False                 False                  True   \n",
              "1                  True                 False                 False   \n",
              "2                  True                 False                 False   \n",
              "3                  True                 False                 False   \n",
              "4                  True                 False                 False   \n",
              "\n",
              "   Transmission_CVT  Transmission_Type_Manual  No_of_Owners_2nd  \\\n",
              "0             False                     False             False   \n",
              "1             False                      True             False   \n",
              "2             False                      True              True   \n",
              "3             False                      True             False   \n",
              "4             False                      True             False   \n",
              "\n",
              "   No_of_Owners_3rd  \n",
              "0             False  \n",
              "1             False  \n",
              "2             False  \n",
              "3             False  \n",
              "4             False  \n",
              "\n",
              "[5 rows x 42 columns]"
            ]
          },
          "execution_count": 33,
          "metadata": {},
          "output_type": "execute_result"
        }
      ],
      "source": [
        "x6.head(5)"
      ]
    },
    {
      "cell_type": "code",
      "execution_count": 34,
      "id": "301a383c",
      "metadata": {},
      "outputs": [],
      "source": [
        "x6_train, x6_test, y_train, y_test = train_test_split(x6, y, test_size=0.2)"
      ]
    },
    {
      "cell_type": "code",
      "execution_count": 35,
      "id": "a18afc82",
      "metadata": {},
      "outputs": [
        {
          "name": "stdout",
          "output_type": "stream",
          "text": [
            "0.6593078120782183\n",
            "12.723249842906398\n",
            "[ 0.03967766  0.4842713   0.63581297  0.54263432  0.76963747  0.94134387\n",
            "  1.15379193  0.63215773  0.49335744  0.5859771   0.48255119  0.44774043\n",
            "  0.71510666  0.71455668  0.39438767  0.1242462   0.30547789  0.11448041\n",
            "  0.22681963  0.19517275  0.09246472  0.19748788  0.09667318  0.25406584\n",
            " -0.33779973  0.19415715  0.13591831  0.21081289  0.19891105 -0.2810081\n",
            " -0.06689345  0.07363325  0.17102931 -0.13424863  0.18130361  0.18093208\n",
            "  0.37625011  0.72861214  0.49370824 -0.10926562 -0.12899789 -0.25224385]\n"
          ]
        }
      ],
      "source": [
        "reg6 = LinearRegression(fit_intercept = True).fit(x6_train, y_train)\n",
        "y_hat4 = reg6.predict(x6_test)\n",
        "print(reg6.score(x6_test, y_test))\n",
        "print(reg6.intercept_) # Intercept value\n",
        "print(reg6.coef_) # Regression coefficients"
      ]
    },
    {
      "cell_type": "code",
      "execution_count": 36,
      "id": "1da918e8",
      "metadata": {},
      "outputs": [
        {
          "data": {
            "text/html": [
              "<div>\n",
              "<style scoped>\n",
              "    .dataframe tbody tr th:only-of-type {\n",
              "        vertical-align: middle;\n",
              "    }\n",
              "\n",
              "    .dataframe tbody tr th {\n",
              "        vertical-align: top;\n",
              "    }\n",
              "\n",
              "    .dataframe thead th {\n",
              "        text-align: right;\n",
              "    }\n",
              "</style>\n",
              "<table border=\"1\" class=\"dataframe\">\n",
              "  <thead>\n",
              "    <tr style=\"text-align: right;\">\n",
              "      <th></th>\n",
              "      <th>Make_Year</th>\n",
              "      <th>Mileage_Run</th>\n",
              "      <th>Seating_Capacity</th>\n",
              "      <th>Mileagelog</th>\n",
              "      <th>Make_Datsun</th>\n",
              "      <th>Make_Ford</th>\n",
              "      <th>Make_Honda</th>\n",
              "      <th>Make_Hyundai</th>\n",
              "      <th>Make_Jeep</th>\n",
              "      <th>Make_Kia</th>\n",
              "      <th>...</th>\n",
              "      <th>Body_Type_suv</th>\n",
              "      <th>Fuel_Type_petrol</th>\n",
              "      <th>Fuel_Type_petrol+cng</th>\n",
              "      <th>Transmission_5-Speed</th>\n",
              "      <th>Transmission_6-Speed</th>\n",
              "      <th>Transmission_7-Speed</th>\n",
              "      <th>Transmission_CVT</th>\n",
              "      <th>Transmission_Type_Manual</th>\n",
              "      <th>No_of_Owners_2nd</th>\n",
              "      <th>No_of_Owners_3rd</th>\n",
              "    </tr>\n",
              "  </thead>\n",
              "  <tbody>\n",
              "    <tr>\n",
              "      <th>0</th>\n",
              "      <td>2017</td>\n",
              "      <td>44611</td>\n",
              "      <td>5</td>\n",
              "      <td>10.705736</td>\n",
              "      <td>False</td>\n",
              "      <td>False</td>\n",
              "      <td>False</td>\n",
              "      <td>False</td>\n",
              "      <td>False</td>\n",
              "      <td>False</td>\n",
              "      <td>...</td>\n",
              "      <td>False</td>\n",
              "      <td>False</td>\n",
              "      <td>False</td>\n",
              "      <td>False</td>\n",
              "      <td>False</td>\n",
              "      <td>True</td>\n",
              "      <td>False</td>\n",
              "      <td>False</td>\n",
              "      <td>False</td>\n",
              "      <td>False</td>\n",
              "    </tr>\n",
              "    <tr>\n",
              "      <th>1</th>\n",
              "      <td>2016</td>\n",
              "      <td>20305</td>\n",
              "      <td>5</td>\n",
              "      <td>9.918622</td>\n",
              "      <td>False</td>\n",
              "      <td>False</td>\n",
              "      <td>False</td>\n",
              "      <td>True</td>\n",
              "      <td>False</td>\n",
              "      <td>False</td>\n",
              "      <td>...</td>\n",
              "      <td>False</td>\n",
              "      <td>True</td>\n",
              "      <td>False</td>\n",
              "      <td>True</td>\n",
              "      <td>False</td>\n",
              "      <td>False</td>\n",
              "      <td>False</td>\n",
              "      <td>True</td>\n",
              "      <td>False</td>\n",
              "      <td>False</td>\n",
              "    </tr>\n",
              "    <tr>\n",
              "      <th>2</th>\n",
              "      <td>2019</td>\n",
              "      <td>29540</td>\n",
              "      <td>5</td>\n",
              "      <td>10.293501</td>\n",
              "      <td>False</td>\n",
              "      <td>False</td>\n",
              "      <td>True</td>\n",
              "      <td>False</td>\n",
              "      <td>False</td>\n",
              "      <td>False</td>\n",
              "      <td>...</td>\n",
              "      <td>True</td>\n",
              "      <td>True</td>\n",
              "      <td>False</td>\n",
              "      <td>True</td>\n",
              "      <td>False</td>\n",
              "      <td>False</td>\n",
              "      <td>False</td>\n",
              "      <td>True</td>\n",
              "      <td>True</td>\n",
              "      <td>False</td>\n",
              "    </tr>\n",
              "    <tr>\n",
              "      <th>3</th>\n",
              "      <td>2017</td>\n",
              "      <td>35680</td>\n",
              "      <td>5</td>\n",
              "      <td>10.482346</td>\n",
              "      <td>False</td>\n",
              "      <td>False</td>\n",
              "      <td>False</td>\n",
              "      <td>False</td>\n",
              "      <td>False</td>\n",
              "      <td>False</td>\n",
              "      <td>...</td>\n",
              "      <td>False</td>\n",
              "      <td>True</td>\n",
              "      <td>False</td>\n",
              "      <td>True</td>\n",
              "      <td>False</td>\n",
              "      <td>False</td>\n",
              "      <td>False</td>\n",
              "      <td>True</td>\n",
              "      <td>False</td>\n",
              "      <td>False</td>\n",
              "    </tr>\n",
              "    <tr>\n",
              "      <th>4</th>\n",
              "      <td>2017</td>\n",
              "      <td>25126</td>\n",
              "      <td>5</td>\n",
              "      <td>10.131658</td>\n",
              "      <td>False</td>\n",
              "      <td>False</td>\n",
              "      <td>False</td>\n",
              "      <td>True</td>\n",
              "      <td>False</td>\n",
              "      <td>False</td>\n",
              "      <td>...</td>\n",
              "      <td>False</td>\n",
              "      <td>True</td>\n",
              "      <td>False</td>\n",
              "      <td>True</td>\n",
              "      <td>False</td>\n",
              "      <td>False</td>\n",
              "      <td>False</td>\n",
              "      <td>True</td>\n",
              "      <td>False</td>\n",
              "      <td>False</td>\n",
              "    </tr>\n",
              "    <tr>\n",
              "      <th>5</th>\n",
              "      <td>2016</td>\n",
              "      <td>52261</td>\n",
              "      <td>5</td>\n",
              "      <td>10.864006</td>\n",
              "      <td>False</td>\n",
              "      <td>False</td>\n",
              "      <td>False</td>\n",
              "      <td>True</td>\n",
              "      <td>False</td>\n",
              "      <td>False</td>\n",
              "      <td>...</td>\n",
              "      <td>False</td>\n",
              "      <td>True</td>\n",
              "      <td>False</td>\n",
              "      <td>True</td>\n",
              "      <td>False</td>\n",
              "      <td>False</td>\n",
              "      <td>False</td>\n",
              "      <td>True</td>\n",
              "      <td>False</td>\n",
              "      <td>False</td>\n",
              "    </tr>\n",
              "  </tbody>\n",
              "</table>\n",
              "<p>6 rows × 46 columns</p>\n",
              "</div>"
            ],
            "text/plain": [
              "   Make_Year  Mileage_Run  Seating_Capacity  Mileagelog  Make_Datsun  \\\n",
              "0       2017        44611                 5   10.705736        False   \n",
              "1       2016        20305                 5    9.918622        False   \n",
              "2       2019        29540                 5   10.293501        False   \n",
              "3       2017        35680                 5   10.482346        False   \n",
              "4       2017        25126                 5   10.131658        False   \n",
              "5       2016        52261                 5   10.864006        False   \n",
              "\n",
              "   Make_Ford  Make_Honda  Make_Hyundai  Make_Jeep  Make_Kia  ...  \\\n",
              "0      False       False         False      False     False  ...   \n",
              "1      False       False          True      False     False  ...   \n",
              "2      False        True         False      False     False  ...   \n",
              "3      False       False         False      False     False  ...   \n",
              "4      False       False          True      False     False  ...   \n",
              "5      False       False          True      False     False  ...   \n",
              "\n",
              "   Body_Type_suv  Fuel_Type_petrol  Fuel_Type_petrol+cng  \\\n",
              "0          False             False                 False   \n",
              "1          False              True                 False   \n",
              "2           True              True                 False   \n",
              "3          False              True                 False   \n",
              "4          False              True                 False   \n",
              "5          False              True                 False   \n",
              "\n",
              "   Transmission_5-Speed  Transmission_6-Speed  Transmission_7-Speed  \\\n",
              "0                 False                 False                  True   \n",
              "1                  True                 False                 False   \n",
              "2                  True                 False                 False   \n",
              "3                  True                 False                 False   \n",
              "4                  True                 False                 False   \n",
              "5                  True                 False                 False   \n",
              "\n",
              "   Transmission_CVT  Transmission_Type_Manual  No_of_Owners_2nd  \\\n",
              "0             False                     False             False   \n",
              "1             False                      True             False   \n",
              "2             False                      True              True   \n",
              "3             False                      True             False   \n",
              "4             False                      True             False   \n",
              "5             False                      True             False   \n",
              "\n",
              "   No_of_Owners_3rd  \n",
              "0             False  \n",
              "1             False  \n",
              "2             False  \n",
              "3             False  \n",
              "4             False  \n",
              "5             False  \n",
              "\n",
              "[6 rows x 46 columns]"
            ]
          },
          "execution_count": 36,
          "metadata": {},
          "output_type": "execute_result"
        }
      ],
      "source": [
        "x7 = pd.concat([x, x6], axis = 1)\n",
        "x7.head(6)"
      ]
    },
    {
      "cell_type": "code",
      "execution_count": 37,
      "id": "49b0cb93",
      "metadata": {},
      "outputs": [],
      "source": [
        "x7_train, x7_test, y_train, y_test = train_test_split(x7, y, test_size=0.2)"
      ]
    },
    {
      "cell_type": "code",
      "execution_count": 38,
      "id": "afed3c03",
      "metadata": {},
      "outputs": [
        {
          "name": "stdout",
          "output_type": "stream",
          "text": [
            "0.8545809483612192\n",
            "-140.8171197708977\n",
            "[ 7.55450046e-02 -2.04046455e-06  1.59629254e-01  8.00889418e-02\n",
            " -1.26349261e-01  1.96806970e-01  3.91531958e-01  3.72232128e-01\n",
            "  5.32835423e-01  6.71795180e-01  6.94204986e-01  1.05330592e-01\n",
            "  2.89500307e-01  2.52986252e-01  1.28363144e-01  5.25864294e-01\n",
            "  3.47665898e-01  4.44688841e-01  3.51368495e-01  1.63187656e-01\n",
            "  1.54221561e-01  7.16321181e-03  1.46655500e-01  1.71635070e-01\n",
            "  1.80229498e-01  8.73182812e-02  1.58935256e-01  1.52422979e-01\n",
            " -1.88118138e-01  1.02002817e-01  8.97026392e-02  1.01015719e-01\n",
            "  8.15517305e-02 -1.72139200e-01 -2.97121742e-01  1.17907571e-01\n",
            "  2.35128822e-01 -2.07021003e-01 -2.94464112e-01  8.96340874e-02\n",
            "  2.10388144e-01  3.83106461e-01  1.90730796e-01 -8.09511877e-02\n",
            " -4.99070675e-02 -2.53971809e-01]\n"
          ]
        }
      ],
      "source": [
        "reg7 = LinearRegression(fit_intercept = True).fit(x7_train, y_train)\n",
        "y_hat5 = reg7.predict(x7_test)\n",
        "print(reg7.score(x7_test, y_test))\n",
        "print(reg7.intercept_) # Intercept value\n",
        "print(reg7.coef_) # Regression coefficients"
      ]
    },
    {
      "cell_type": "code",
      "execution_count": 39,
      "id": "ede6ed25",
      "metadata": {},
      "outputs": [],
      "source": [
        "# 5\n",
        "from sklearn.preprocessing import PolynomialFeatures\n",
        "from sklearn.metrics import r2_score, mean_squared_error\n",
        "\n",
        "x_train, x_test, y_train, y_test = train_test_split(x7, y, test_size = 0.2)\n",
        "\n",
        "\n",
        "degrees = range(1, 11)\n",
        "train_r2 = []\n",
        "test_r2 = []\n",
        "train_rmse = []\n",
        "test_rmse = []"
      ]
    },
    {
      "cell_type": "code",
      "execution_count": 40,
      "id": "4b82e2c3",
      "metadata": {},
      "outputs": [
        {
          "ename": "",
          "evalue": "",
          "output_type": "error",
          "traceback": [
            "\u001b[1;31mThe Kernel crashed while executing code in the current cell or a previous cell. \n",
            "\u001b[1;31mPlease review the code in the cell(s) to identify a possible cause of the failure. \n",
            "\u001b[1;31mClick <a href='https://aka.ms/vscodeJupyterKernelCrash'>here</a> for more info. \n",
            "\u001b[1;31mView Jupyter <a href='command:jupyter.viewOutput'>log</a> for further details."
          ]
        }
      ],
      "source": [
        "for d in degrees:\n",
        "    poly = PolynomialFeatures(degree=d)\n",
        "    X_train_poly = poly.fit_transform(x_train)\n",
        "    X_test_poly = poly.transform(x_test)\n",
        "\n",
        "    model = LinearRegression()\n",
        "    model.fit(X_train_poly, y_train)\n",
        "\n",
        "    y_train_pred = model.predict(X_train_poly)\n",
        "    y_test_pred = model.predict(X_test_poly)\n",
        "\n",
        "    train_r2.append(r2_score(y_train, y_train_pred))\n",
        "    test_r2.append(r2_score(y_test, y_test_pred))\n",
        "    train_rmse.append(np.sqrt(mean_squared_error(y_train, y_train_pred)))\n",
        "    test_rmse.append(np.sqrt(mean_squared_error(y_test, y_test_pred)))"
      ]
    },
    {
      "cell_type": "markdown",
      "id": "aedcd486",
      "metadata": {},
      "source": [
        "**Q4.** This question refers to the `heart_hw.csv` data. It contains three variables:\n",
        "\n",
        "  - `y`: Whether the individual survived for three years, coded 0 for death and 1 for survival\n",
        "  - `age`: Patient's age\n",
        "  - `transplant`: `control` for not receiving a transplant and `treatment` for receiving a transplant\n",
        "\n",
        "Since a heart transplant is a dangerous operation and even people who successfully get heart transplants might suffer later complications, we want to look at whether a group of transplant recipients tends to survive longer than a comparison group who does not get the procedure.\n",
        "\n",
        "1. Compute (a) the proportion of people who survive in the control group who do not receive a transplant, and (b) the difference between the proportion of people who survive in the treatment group and the proportion of people who survive in the control group. In a randomized controlled trial, this is called the **average treatment effect**.\n",
        "2. Regress `y` on `transplant` using a linear model with a constant. How does the constant/intercept of the regression and the coefficient on transplant compare to your answers from part 1? Explain the relationship clearly.\n",
        "3. We'd like to include `age` in the regression, since it's reasonable to expect that older patients are less likely to survive an extensive surgery like a heart transplant. Regress `y` on a constant, transplant, and age. How does the intercept change?\n",
        "4. Build a more flexible model that allows for non-linear age effects and interactions between age and treatment. Use a train-test split to validate your model. Estimate your best model, predict the survival probability by age, and plot your results conditional on receiving a transplant and not. Describe what you see.\n",
        "5. Imagine someone suggests using these kinds of models to select who receives organ transplants; perhaps the CDC or NIH starts using a scoring algorithm to decide who is contacted about a potential organ. What are your concerns about how it is built and how it is deployed?"
      ]
    },
    {
      "cell_type": "markdown",
      "id": "7bd15c6b-4c7c-4230-a199-e03e1054ec6a",
      "metadata": {
        "id": "7bd15c6b-4c7c-4230-a199-e03e1054ec6a"
      },
      "source": [
        "**Q5.** This is a question about linear regression. The outcome is whether a defendant is held pre-trial in the Virginia justice system. We would like to understand how that outcome is predicted by characteristics of the defendant, particularly race. Let's be very careful/clear: We aren't saying anyone *should* be held without bond or asserting that people with different demographic variables *should* be more likely to be held, but instead trying to predict whether people with different characteristics *are empirically more likely* to be held without bond, given the available information. This is the first step we would take in investigating whether a system is fair, or how large the disparities are: Does it treat people with similar observable characteristics similarly, or not? We are going to look at a common question: Are Black defendants treated differently from white or Asian ones? (There are Native American defendants, but there are 11 in total, which is such a small number of observations that is difficult to clearly say anything about how this group is treated relative to the others.)\n",
        "\n",
        "The variables in the data are:\n",
        "\n",
        "  - `held_wo_bail`: Whether a defendant is held without bail before trial (Boolean logical)\n",
        "  - `race`, `sex`: Categorical demographic variables\n",
        "  - `is_poor`: Whether the defendant is classified as indigent\n",
        "  - `prior_F`, `prior_M`: The number of prior felony and misdemeanor arrests\n",
        "  - `case_type`: A categorical variable indicating a misdemeanor `M` or felony `F` or infraction `I` or special case `S`\n",
        "  - `age`: Defendant's age\n",
        "  - `bond`, `bond_NA`, `bond_type`: The amount of any bond, whether it is missing, and the type\n",
        "  - `sentence`, `sentence_NA`, `sentence_type`: The length of any sentence, whether it is missing, and the type\n",
        "\n",
        "1. Load the `pretrial_data.csv` data. Notice that there are `nan`s, but the data are relatively clean. Because there are `.nan`s among variables you won't use, you'll want to narrow down your analysis to the relevant variables before dropping or imputing missing values.\n",
        "2. Create a dummy variable indicating that the defendant is Black.\n",
        "3. Regress `held` on `Black`. What is the slope coefficient Interpret the coefficient on the Black dummy variable: How much more likely is a black person to be held without bail? What is the $R^2$ of the model?\n",
        "4. Before doing this question, please think for a few minutes about how to make the process of running the following regressions as efficient as possible, before jumping into writing code. Repeat part 2, for the following specifications, keeping track of the coefficient on the Black dummy variable each time:\n",
        "      - `held` on `Black` and `sex`\n",
        "      - `held` on `Black` and `sex` and `is_poor`\n",
        "      - `held` on `Black` and `sex` and `is_poor` and `prior_F`\n",
        "      - `held` on `Black` and `sex` and `is_poor` and `prior_F` and `case_type`\n",
        "What happens to the coefficient on the Black dummy variable as you include more regressors/features/controls in the regression? Explain your findings.\n",
        "5. Suppose we don't want to see just `Black` and `sex`, but `Black` interacted with `sex`: Are Black men and Black women treated systemically differently from the rest of the population? Implement this in a regression, and explain your findings.\n",
        "6. Imagine someone argued we should use these kinds of models to help a judge or magistrate make bail decisions (you could obviously go back and make this kind of model for the bond and sentence variables, then deploy it on new cases to predict what their bond and sentence values would be). What concerns would you have? Do you think society should be using data-driven and automated tools like that? Explain your concerns clearly."
      ]
    },
    {
      "cell_type": "markdown",
      "id": "ca1cfba3",
      "metadata": {
        "vscode": {
          "languageId": "plaintext"
        }
      },
      "source": [
        "**Q6.** Let's explore multiple linear regression in a two-variable case, to build more intuition about what is happening.\n",
        "\n",
        "Suppose the model is \n",
        "$$\n",
        "\\hat{y}_i = b_0 + b_1 z_{i1} + b_2 z_{i2}\n",
        "$$\n",
        "Assume that $z_{ij}$ is centered or de-meaned, so that $z_{ij} = x_{ij} - m_j$ where $m_j$ is the mean of variable $j$ and $x_{ij}$ is the original value of variable $j$ for observation $i$. Notice that this implies\n",
        "$$\n",
        "\\dfrac{1}{N} \\sum_{i=1}^N z_{ij} = 0\n",
        "$$\n",
        "which will simplify your calculations below substantially!\n",
        "\n",
        "1. Write down the SSE for this model.\n",
        "2. Take partial derivatives with respect to $b_0$, $b_1$, and $b_2$.\n",
        "3. Verify that the average error is zero and $e \\cdot z =0$ at the optimum, just as in the single linear regression case.\n",
        "4. Show that the optimal intercept is $b_0^* = \\bar{y}$. Eliminate $b_0^*$ from the remaining equations, and focus on $b_1$ and $b_2$.\n",
        "5. Write your results as a matrix equation in the form \"$Ab=C$\". These are called the **normal equations**.\n",
        "6. Divide both sides by $N$ and substitute $z_{ij} = x_{ij} - m_j$ back into your normal equations for $x_{ij}$. What is the matrix $A$? What is the vector $C$? Explain the intuition of your discovery."
      ]
    },
    {
      "cell_type": "markdown",
      "id": "547d5828",
      "metadata": {},
      "source": [
        "**Q7.** In class, we showed that for the single linear regression model,\n",
        "\\begin{alignat*}{3}\n",
        "a^* &=& \\bar{y} \\\\\n",
        "b^* &=& \\dfrac{\\sum_{i=1}^N(y_i - \\bar{y})(x_i-\\bar{x})}{\\sum_{i=1}^N (x_i-\\bar{x})^2},\n",
        "\\end{alignat*}\n",
        "\n",
        "1. When will $b^*$ be large or small, depending on the relationship between $X$ and $Y$ and the variance of $X$?\n",
        "2. Suppose you have measurement error in $X$ which artificially inflates its variance (e.g. bad data cleaning). We'll model this as saying the \"real\" value of $X$ for observation $i$ is $z_i$, but we observe $x_i = z_i + n_i$, where $n_i$ is the added noise. Does this affect the intercept of the regression? What happens to the $b^*$ coefficient relative to a noise-less model? How will affect your ability to predict? (This phenomenon is called **attenuation**.) \n",
        "3. Suppose the noise $n_i$ is independent of $z_i$ and $y_i$, so that (approximately)\n",
        "$$\n",
        "\\dfrac{1}{N} \\sum_{i=1}^N (y_i - \\bar{y})(n_i - \\bar{n}) =0, \\quad \\dfrac{1}{N} \\sum_{i=1}^N (z_i - \\bar{z})(n_i - \\bar{n}) =0.\n",
        "$$\n",
        "and that the mean of the bias is zero, so that\n",
        "$$\n",
        "\\dfrac{1}{N} \\sum_{i=1}^N n_i = 0.\n",
        "$$\n",
        "In this case, the noise $n_i$ is zero on average and independent of the values of $x_i$ and $y_i$: It's just measurement error or lazy data cleaning.\n",
        "Explain the intuition of your result. \n",
        "\n",
        "4. How does attenuation factor into the cost-benefit analysis of gathering higher quality data or cleaning it more carefully?"
      ]
    },
    {
      "cell_type": "markdown",
      "id": "b67478ac-ad78-4a44-9720-583c71b8da14",
      "metadata": {
        "id": "b67478ac-ad78-4a44-9720-583c71b8da14"
      },
      "source": [
        "**Q8.**\n",
        "1. Find a dataset on a topic you're interested in. Some easy options are data.gov, kaggle.com, and data.world.\n",
        "2. Clean the data and do some exploratory data analysis on key variables that interest you. Pick a particular target/outcome variable and features/predictors.\n",
        "3. Split the sample into an ~80% training set and a ~20% test set.\n",
        "4. Run a few regressions of your target/outcome variable on a variety of features/predictors. Compute the SSE on the test set.\n",
        "5. Which model performed the best, and why?\n",
        "6. What did you learn?"
      ]
    },
    {
      "cell_type": "markdown",
      "id": "fcf48562",
      "metadata": {},
      "source": [
        "**Q9.** There is a folder called `heart_failure` which contains reasonably detailed health data on patients and whether they die of congestive heart failure. \n",
        "\n",
        "1. Load the data and perform an 80/20-train/test split.\n",
        "2. Using dummy/one-hot-encoded variables and transformations of the numeric features, build the best model you can. **But**, do not delete code chunks or revise your work substantially as you experiment. Just keep moving forward with your ideas and experiments.\n",
        "3. When you're done, scroll through your notebook. What worked and what didn't? Does your code have intention, or are you randomly experimenting? If you had to do this again, what might you do differently to get to a good model faster?\n"
      ]
    },
    {
      "cell_type": "markdown",
      "id": "0125d03b",
      "metadata": {
        "vscode": {
          "languageId": "plaintext"
        }
      },
      "source": [
        "**Q10.** Let's look at a cousin of Linear Regression, called **kernel regression** or **local constant least squares** or **Nadaraya-Watson Estimator**.\n",
        "\n",
        "We derived the OLS estimator for single linear regression by minimizing\n",
        "$$\n",
        "SSE(b_0, b_1) = \\frac{1}{N}\\sum_{i=1}^N (y_i - b_0 - b_1 x_i)^2\n",
        "$$\n",
        "with solution\n",
        "$$\n",
        "\\hat{b}_0 = \\bar{y} - \\hat{b}_1 \\bar{x}, \\quad \\hat{b}_1 = \\dfrac{\\frac{1}{N} \\sum_{i=1}^N (x_i-\\bar{x})(y_i - \\bar{y})}{s_x^2}.\n",
        "$$\n",
        "\n",
        "When you step back and think about it, this is a bit weird: The algorithm is computing sample means, variances, and covariances, and using those to create a predictive model. The data themselves arguably vanish from the solution. This is elegant, this is strange.\n",
        "\n",
        "Instead, let $k(z)$ be a kernel function, such as the Gaussian\n",
        "$$\n",
        "k(z) = \\frac{1}{\\sqrt{2\\pi}} e^{-z^2/2}\n",
        "$$\n",
        "or uniform\n",
        "$$\n",
        "k(z) = \\begin{cases}\n",
        "1/2, & |z| \\le \\frac{1}{2}\\\\\n",
        "0, & \\text{otherwise.}\n",
        "\\end{cases}\n",
        "$$\n",
        "We'll instead minimize, or each predictor value $x$,\n",
        "$$\n",
        "SSE(\\hat{y}(x)) = \\dfrac{1}{N} \\sum_{i=1}^N \\left\\lbrace y_i - \\hat{y}(x)\\right\\rbrace^2 \\dfrac{1}{h} k \\left( \\dfrac{x-x_i}{h} \\right).\n",
        "$$\n",
        "\n",
        "1. Show that the optimal predictor is\n",
        "$$\n",
        "\\hat{y}(x) = \\dfrac{ \\frac{1}{Nh} \\sum_{i=1}^N  y_i k \\left( \\dfrac{x-x_i}{h} \\right) }{\\frac{1}{Nh} \\sum_{i=1}^N k \\left(  \\dfrac{x-x_i}{h} \\right)}\n",
        "$$\n",
        "This has many names, but let's call it the local constant least squares (LCLS) estimator, as opposed to ordinary least squares (OLS).\n",
        "\n",
        "2. Compare and contrast LCLS with both OLS and $k$-Nearest Neighbor as a regression algorithm. \n",
        "\n",
        "3. Write a function or class that implements the LCLS estimator for a single predictor variable $x$. For a default bandwidth $h$, you can use the maximum of the Silverman plug-ins for estimating kernel densities for $X$ and $Y$:\n",
        "$$\n",
        "h_y = 1.06 \\times s_y^{-1/5}, \\quad h_x = 1.06 \\times s_x^{-1/5},\n",
        "$$\n",
        "$$\n",
        "h = \\max \\{ h_y, h_x \\}.\n",
        "$$\n",
        "For the kernel, you can hard-code the uniform, Gaussian, or Epanechnikov, or make it a parameter the user can adjust with a default choice.\n",
        "\n",
        "4. For one of the datasets available for the homework, use your LCLS estimator from part 3 to predict values $\\hat{y}(x_i)$ for each datapoint $x_i$. Plot your estimator $\\hat{y}$ as a line over a scatterplot of the data $\\{(x_i,y_i)\\}_{i=1}^N$. Tune the bandwidth until you \n",
        "\n",
        "5. Conceptually, how would you extend this analysis to a vector of predictors, $x = (x_1, ..., x_L)$ instead of just one explanatory variable $x$?\n"
      ]
    }
  ],
  "metadata": {
    "colab": {
      "provenance": []
    },
    "kernelspec": {
      "display_name": "Python 3",
      "language": "python",
      "name": "python3"
    },
    "language_info": {
      "codemirror_mode": {
        "name": "ipython",
        "version": 3
      },
      "file_extension": ".py",
      "mimetype": "text/x-python",
      "name": "python",
      "nbconvert_exporter": "python",
      "pygments_lexer": "ipython3",
      "version": "3.10.12"
    }
  },
  "nbformat": 4,
  "nbformat_minor": 5
}
